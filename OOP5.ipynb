{
  "nbformat": 4,
  "nbformat_minor": 0,
  "metadata": {
    "colab": {
      "provenance": []
    },
    "kernelspec": {
      "name": "python3",
      "display_name": "Python 3"
    },
    "language_info": {
      "name": "python"
    }
  },
  "cells": [
    {
      "cell_type": "markdown",
      "source": [
        "Soal 1"
      ],
      "metadata": {
        "id": "A5GuoN-D-ZcK"
      }
    },
    {
      "cell_type": "code",
      "execution_count": 5,
      "metadata": {
        "id": "OUvToDWKy82b",
        "colab": {
          "base_uri": "https://localhost:8080/"
        },
        "outputId": "3054f317-8635-40db-9955-13514cae8607"
      },
      "outputs": [
        {
          "output_type": "stream",
          "name": "stdout",
          "text": [
            "Data berhasil dk dari https://raw.githubusercontent.com/Zidaneadip/Tugas-OOP5/main/marketing_data.csv\n",
            "Data berhasil diubah.\n",
            "Data berhasil diurutkan berdasarkan customer_id.\n",
            "Baris kosong berhasil dihapus.\n",
            "Data berhasil disimpan ke transformed_marketing_data.csv\n"
          ]
        }
      ],
      "source": [
        "import pandas as pd\n",
        "\n",
        "class MarketingDataETL:\n",
        "    def __init__(self, file_path):\n",
        "        self.file_path = file_path\n",
        "        self.raw_data = None\n",
        "        self.transformed_data = None\n",
        "\n",
        "    def extract(self):\n",
        "        try:\n",
        "            # Read data from CSV file\n",
        "            self.raw_data = pd.read_csv(self.file_path, sep=';')\n",
        "            print(\"Data berhasil diekstrak dari\", self.file_path)\n",
        "        except FileNotFoundError:\n",
        "            print(\"File tidak ditemukan. Harap berikan path file yang valid.\")\n",
        "        except Exception as e:\n",
        "            print(\"Terjadi kesalahan saat ekstraksi data:\", e)\n",
        "\n",
        "    def transform(self):\n",
        "        if self.raw_data is None:\n",
        "            print(\"Tidak ada data untuk diubah. Silakan jalankan extract() terlebih dahulu.\")\n",
        "            return\n",
        "\n",
        "        try:\n",
        "            # Mengubah format tanggal pada kolom 'purchase_date' menjadi 'YYYY-MM-DD'\n",
        "            self.raw_data['purchase_date'] = pd.to_datetime(self.raw_data['purchase_date'], format='%m/%d/%Y').dt.strftime('%Y-%m-%d')\n",
        "            self.transformed_data = self.raw_data  # Menyimpan data yang telah ditransformasi\n",
        "            print(\"Data berhasil diubah.\")\n",
        "        except Exception as e:\n",
        "            print(\"Terjadi kesalahan saat transformasi data:\", e)\n",
        "\n",
        "    def sort_by_customer_id(self):\n",
        "        if self.transformed_data is None:\n",
        "            print(\"Tidak ada data untuk diurutkan. Silakan jalankan transform() terlebih dahulu.\")\n",
        "            return\n",
        "\n",
        "        try:\n",
        "            # Urutkan DataFrame berdasarkan kolom 'customer_id'\n",
        "            self.transformed_data = self.transformed_data.sort_values(by='customer_id')\n",
        "            print(\"Data berhasil diurutkan berdasarkan customer_id.\")\n",
        "        except Exception as e:\n",
        "            print(\"Terjadi kesalahan saat mengurutkan data:\", e)\n",
        "\n",
        "    def remove_empty_rows(self):\n",
        "        if self.transformed_data is None:\n",
        "            print(\"Tidak ada data untuk dihapus baris kosong. Silakan jalankan transform() terlebih dahulu.\")\n",
        "            return\n",
        "\n",
        "        try:\n",
        "            # Hapus baris yang memiliki nilai kosong (NaN)\n",
        "            self.transformed_data = self.transformed_data.dropna()\n",
        "            print(\"Baris kosong berhasil dihapus.\")\n",
        "        except Exception as e:\n",
        "            print(\"Terjadi kesalahan saat menghapus baris kosong:\", e)\n",
        "\n",
        "    def store(self, output_file):\n",
        "        if self.transformed_data is None:\n",
        "            print(\"Tidak ada data yang disimpan. Silakan jalankan transform() terlebih dahulu.\")\n",
        "            return\n",
        "\n",
        "        try:\n",
        "            # Menyimpan data yang telah ditransformasi ke dalam file CSV\n",
        "            self.transformed_data.to_csv(output_file, index=False)\n",
        "            print(\"Data berhasil disimpan ke\", output_file)\n",
        "        except Exception as e:\n",
        "            print(\"Terjadi kesalahan saat menyimpan data:\", e)\n",
        "\n",
        "# Contoh penggunaan:\n",
        "etl_processor = MarketingDataETL('https://raw.githubusercontent.com/Zidaneadip/Tugas-OOP5/main/marketing_data.csv')\n",
        "etl_processor.extract()\n",
        "etl_processor.transform()\n",
        "etl_processor.sort_by_customer_id()\n",
        "etl_processor.remove_empty_rows()\n",
        "etl_processor.store(\"transformed_marketing_data.csv\")"
      ]
    },
    {
      "cell_type": "code",
      "source": [
        "df = pd.read_csv('transformed_marketing_data.csv')\n",
        "print(df)"
      ],
      "metadata": {
        "id": "Ny3y3iA9-3MV",
        "outputId": "e954582c-1ea3-4fbc-fac0-6b57a0d4038b",
        "colab": {
          "base_uri": "https://localhost:8080/"
        }
      },
      "execution_count": 2,
      "outputs": [
        {
          "output_type": "stream",
          "name": "stdout",
          "text": [
            "  customer_id purchase_date product_category  amount_spent\n",
            "0        C001    2023-01-03      Electronics        250.00\n",
            "1        C001    2023-04-03            Books         20.00\n",
            "2        C002    2023-02-03            Books         45.50\n",
            "3        C002    2023-05-03      Electronics        525.00\n",
            "4        C003    2023-03-03    Home & Garden        150.75\n",
            "5        C005    2023-07-03           Beauty         75.00\n"
          ]
        }
      ]
    },
    {
      "cell_type": "markdown",
      "source": [
        "Soal 2"
      ],
      "metadata": {
        "id": "iXyj6U86-d_7"
      }
    },
    {
      "cell_type": "code",
      "source": [
        "class TargetedMarketingETL(MarketingDataETL):\n",
        "    def __init__(self, file_path):\n",
        "        super().__init__(file_path)\n",
        "        self.segmented_data = None\n",
        "\n",
        "    def segment_customers(self, criteria):\n",
        "        if self.transformed_data is None:\n",
        "            print(\"Tidak ada data untuk disegmentasi. Silakan jalankan transform() terlebih dahulu.\")\n",
        "            return\n",
        "\n",
        "        try:\n",
        "            # Implementasi logika segmentasi pelanggan berdasarkan kriteria tertentu\n",
        "            if criteria == 'total_spending':\n",
        "                self.segmented_data = self.transformed_data.groupby('customer_id')['amount_spent'].sum().reset_index()\n",
        "                self.segmented_data.columns = ['customer_id', 'total_spending']\n",
        "            elif criteria == 'product_category':\n",
        "                # Contoh: Mengelompokkan pelanggan berdasarkan kategori produk yang dibeli\n",
        "                self.segmented_data = self.transformed_data.groupby(['customer_id', 'product_category']).size().unstack(fill_value=0)\n",
        "            else:\n",
        "                print(\"Kriteria tidak valid untuk segmentasi pelanggan.\")\n",
        "                return\n",
        "\n",
        "            print(\"Pelanggan berhasil disegmentasi berdasarkan\", criteria)\n",
        "            print(self.segmented_data)  # Cetak hasil segmentasi\n",
        "        except Exception as e:\n",
        "            print(\"Terjadi kesalahan saat segmentasi pelanggan:\", e)\n",
        "\n",
        "    # Override metode transform untuk menambahkan logika segmentasi pelanggan\n",
        "    def transform(self):\n",
        "        super().transform()  # Memanggil metode transform dari parent class\n",
        "\n",
        "        if self.segmented_data is not None:\n",
        "            # Lakukan operasi transformasi tambahan jika diperlukan\n",
        "            print(\"Melakukan transformasi tambahan untuk segmentasi pelanggan.\")\n",
        "            print(self.segmented_data)  # Cetak hasil segmentasi tambahan\n",
        "\n",
        "\n",
        "# Contoh penggunaan:\n",
        "targeted_etl_processor = TargetedMarketingETL('https://raw.githubusercontent.com/Zidaneadip/Tugas-OOP5/main/marketing_data.csv')\n",
        "targeted_etl_processor.extract()\n",
        "targeted_etl_processor.transform()\n",
        "targeted_etl_processor.sort_by_customer_id()\n",
        "targeted_etl_processor.remove_empty_rows()\n",
        "targeted_etl_processor.segment_customers('total_spending')\n",
        "targeted_etl_processor.store(\"segmented_marketing_data.csv\")\n"
      ],
      "metadata": {
        "colab": {
          "base_uri": "https://localhost:8080/"
        },
        "id": "YtEVlMtgB42M",
        "outputId": "e014ea46-f16f-4f2d-ce9b-3624e613c0bf"
      },
      "execution_count": 6,
      "outputs": [
        {
          "output_type": "stream",
          "name": "stdout",
          "text": [
            "Data berhasil diekstrak dari https://raw.githubusercontent.com/Zidaneadip/Tugas-OOP5/main/marketing_data.csv\n",
            "Data berhasil diubah.\n",
            "Data berhasil diurutkan berdasarkan customer_id.\n",
            "Baris kosong berhasil dihapus.\n",
            "Pelanggan berhasil disegmentasi berdasarkan total_spending\n",
            "  customer_id  total_spending\n",
            "0        C001          270.00\n",
            "1        C002          570.50\n",
            "2        C003          150.75\n",
            "3        C005           75.00\n",
            "Data berhasil disimpan ke segmented_marketing_data.csv\n"
          ]
        }
      ]
    }
  ]
}
